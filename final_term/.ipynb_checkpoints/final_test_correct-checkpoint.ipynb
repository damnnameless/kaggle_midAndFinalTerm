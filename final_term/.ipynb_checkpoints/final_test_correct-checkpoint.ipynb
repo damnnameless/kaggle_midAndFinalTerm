{
 "cells": [
  {
   "cell_type": "code",
   "execution_count": 1,
   "metadata": {},
   "outputs": [],
   "source": [
    "# So After looking at the answer of final, I modify (or correct) of my final homework\n",
    "# with method of categoricals and several parameters and also for importance, I changed to get_fscore"
   ]
  },
  {
   "cell_type": "code",
   "execution_count": 2,
   "metadata": {},
   "outputs": [],
   "source": [
    "import pandas as pd\n",
    "import numpy as np\n",
    "import xgboost as xgb\n",
    "from xgboost.sklearn import XGBClassifier\n",
    "from sklearn.model_selection import cross_val_score\n",
    "from bayes_opt import bayesian_optimization\n",
    "import matplotlib.pyplot as plt\n",
    "from sklearn.metrics import roc_auc_score\n",
    "import warnings"
   ]
  },
  {
   "cell_type": "code",
   "execution_count": 3,
   "metadata": {},
   "outputs": [
    {
     "name": "stdout",
     "output_type": "stream",
     "text": [
      "train dataset shape is: (9674, 15)\n",
      "test dataset shape is: (11182, 15)\n"
     ]
    }
   ],
   "source": [
    "# question 1: read adult data.txt as train, adult test.txt as test, rename their headers to ['age', \n",
    "# 'workclass', 'fnlwgt', 'education', 'education_num', 'marital_status', 'occupation', 'relationship',\n",
    "# 'race', 'sex', 'capital_gain', 'capital_loss', 'hours_per_week', 'native_country', 'wage_class']\n",
    "column_name = ['age', 'workclass', 'fnlwgt', 'education', 'education_num', 'marital_status', \n",
    "               'occupation', 'relationship', 'race', 'sex', 'capital_gain', 'capital_loss', \n",
    "               'hours_per_week', 'native_country', 'wage_class']\n",
    "df_train = pd.read_csv('adult+data.txt', header = None)\n",
    "df_test = pd.read_csv('adult+test.txt', header = None)\n",
    "df_train.columns = column_name\n",
    "df_test.columns = column_name\n",
    "print(\"train dataset shape is: \" + str(df_train.shape))\n",
    "print(\"test dataset shape is: \" + str(df_test.shape))"
   ]
  },
  {
   "cell_type": "code",
   "execution_count": 4,
   "metadata": {},
   "outputs": [
    {
     "name": "stdout",
     "output_type": "stream",
     "text": [
      "train dataset shape without '?' is: (8936, 15)\n",
      "test dataset shape without '?' is: (10347, 15)\n"
     ]
    }
   ],
   "source": [
    "# question 2: replace ‘ ?’ with nan and drop na\n",
    "df_train_nona = df_train.replace(' ?', np.nan).dropna()\n",
    "df_test_nona = df_test.replace(' ?', np.nan).dropna()\n",
    "print(\"train dataset shape without '?' is: \" + str(df_train_nona.shape))\n",
    "print(\"test dataset shape without '?' is: \" + str(df_test_nona.shape))"
   ]
  },
  {
   "cell_type": "code",
   "execution_count": 5,
   "metadata": {},
   "outputs": [],
   "source": [
    "# question 3: replace test wage_class all of the ‘<=50K.’ \n",
    "# with ‘<=50K’ and the same for ‘>50K.’ with ‘>50K’, same as train\n",
    "df_test_rep = df_test_nona.replace([' >50K.', ' <=50K.'], ['>50K', '<=50K'])\n",
    "df_train_rep = df_train_nona.replace([' >50K', ' <=50K'], ['>50K', '<=50K'])"
   ]
  },
  {
   "cell_type": "code",
   "execution_count": 6,
   "metadata": {},
   "outputs": [],
   "source": [
    "# question 4: apply Ordinal Encoding to Categoricals for both train and test\n",
    "df_combined = pd.concat([df_test_rep, df_train_rep], axis = 0)\n",
    "for i in df_combined.columns:\n",
    "    if df_combined[i].dtype == 'object': \n",
    "        df_combined[i] = pd.Categorical(df_combined[i]).codes\n",
    "df_test_final = df_combined[:df_test_rep.shape[0]]\n",
    "df_train_final = df_combined[df_test_rep.shape[0]:]"
   ]
  },
  {
   "cell_type": "code",
   "execution_count": 7,
   "metadata": {},
   "outputs": [],
   "source": [
    "# pop is better and easier way\n",
    "y_train = df_train_final['wage_class']\n",
    "y_test = df_test_final['wage_class']\n",
    "x_train = df_train_final.drop(columns = 'wage_class')\n",
    "x_test = df_test_final.drop(columns = 'wage_class')"
   ]
  },
  {
   "cell_type": "code",
   "execution_count": 8,
   "metadata": {},
   "outputs": [
    {
     "data": {
      "text/plain": [
       "array([0, 1])"
      ]
     },
     "execution_count": 8,
     "metadata": {},
     "output_type": "execute_result"
    }
   ],
   "source": [
    "y_train.unique()"
   ]
  },
  {
   "cell_type": "code",
   "execution_count": 9,
   "metadata": {},
   "outputs": [
    {
     "name": "stdout",
     "output_type": "stream",
     "text": [
      "|   iter    |  target   | colsam... |   gamma   | learni... | max_depth | min_ch... | n_esti... | subsample |\n",
      "-------------------------------------------------------------------------------------------------------------\n",
      "| \u001b[0m 1       \u001b[0m | \u001b[0m 0.9171  \u001b[0m | \u001b[0m 0.8049  \u001b[0m | \u001b[0m 0.9677  \u001b[0m | \u001b[0m 0.02242 \u001b[0m | \u001b[0m 5.482   \u001b[0m | \u001b[0m 2.619   \u001b[0m | \u001b[0m 1.357e+0\u001b[0m | \u001b[0m 0.8222  \u001b[0m |\n",
      "| \u001b[0m 2       \u001b[0m | \u001b[0m 0.913   \u001b[0m | \u001b[0m 0.7914  \u001b[0m | \u001b[0m 0.7382  \u001b[0m | \u001b[0m 0.06384 \u001b[0m | \u001b[0m 3.73    \u001b[0m | \u001b[0m 1.07    \u001b[0m | \u001b[0m 1.832e+0\u001b[0m | \u001b[0m 0.8335  \u001b[0m |\n",
      "| \u001b[95m 3       \u001b[0m | \u001b[95m 0.9176  \u001b[0m | \u001b[95m 0.8514  \u001b[0m | \u001b[95m 0.4172  \u001b[0m | \u001b[95m 0.0372  \u001b[0m | \u001b[95m 4.214   \u001b[0m | \u001b[95m 1.403   \u001b[0m | \u001b[95m 1e+03   \u001b[0m | \u001b[95m 0.7477  \u001b[0m |\n",
      "| \u001b[0m 4       \u001b[0m | \u001b[0m 0.9107  \u001b[0m | \u001b[0m 0.7683  \u001b[0m | \u001b[0m 0.9391  \u001b[0m | \u001b[0m 0.06017 \u001b[0m | \u001b[0m 5.96    \u001b[0m | \u001b[0m 4.483   \u001b[0m | \u001b[0m 1e+03   \u001b[0m | \u001b[0m 0.7749  \u001b[0m |\n",
      "| \u001b[0m 5       \u001b[0m | \u001b[0m 0.9074  \u001b[0m | \u001b[0m 0.761   \u001b[0m | \u001b[0m 0.436   \u001b[0m | \u001b[0m 0.09803 \u001b[0m | \u001b[0m 3.553   \u001b[0m | \u001b[0m 1.155   \u001b[0m | \u001b[0m 2e+03   \u001b[0m | \u001b[0m 0.7186  \u001b[0m |\n",
      "| \u001b[95m 6       \u001b[0m | \u001b[95m 0.9202  \u001b[0m | \u001b[95m 0.8893  \u001b[0m | \u001b[95m 0.328   \u001b[0m | \u001b[95m 0.02215 \u001b[0m | \u001b[95m 3.027   \u001b[0m | \u001b[95m 1.013   \u001b[0m | \u001b[95m 1.577e+0\u001b[0m | \u001b[95m 0.8668  \u001b[0m |\n",
      "| \u001b[0m 7       \u001b[0m | \u001b[0m 0.9136  \u001b[0m | \u001b[0m 0.784   \u001b[0m | \u001b[0m 0.2693  \u001b[0m | \u001b[0m 0.08585 \u001b[0m | \u001b[0m 3.105   \u001b[0m | \u001b[0m 1.03    \u001b[0m | \u001b[0m 1.191e+0\u001b[0m | \u001b[0m 0.8346  \u001b[0m |\n",
      "| \u001b[0m 8       \u001b[0m | \u001b[0m 0.9114  \u001b[0m | \u001b[0m 0.7151  \u001b[0m | \u001b[0m 0.03935 \u001b[0m | \u001b[0m 0.09402 \u001b[0m | \u001b[0m 3.103   \u001b[0m | \u001b[0m 1.074   \u001b[0m | \u001b[0m 1.48e+03\u001b[0m | \u001b[0m 0.8382  \u001b[0m |\n",
      "| \u001b[0m 9       \u001b[0m | \u001b[0m 0.8994  \u001b[0m | \u001b[0m 0.7606  \u001b[0m | \u001b[0m 0.1962  \u001b[0m | \u001b[0m 0.09092 \u001b[0m | \u001b[0m 6.751   \u001b[0m | \u001b[0m 1.044   \u001b[0m | \u001b[0m 1.698e+0\u001b[0m | \u001b[0m 0.8181  \u001b[0m |\n",
      "| \u001b[0m 10      \u001b[0m | \u001b[0m 0.9149  \u001b[0m | \u001b[0m 0.7705  \u001b[0m | \u001b[0m 0.6094  \u001b[0m | \u001b[0m 0.03936 \u001b[0m | \u001b[0m 3.03    \u001b[0m | \u001b[0m 4.973   \u001b[0m | \u001b[0m 1.917e+0\u001b[0m | \u001b[0m 0.7078  \u001b[0m |\n",
      "| \u001b[0m 11      \u001b[0m | \u001b[0m 0.9195  \u001b[0m | \u001b[0m 0.7322  \u001b[0m | \u001b[0m 0.6297  \u001b[0m | \u001b[0m 0.03822 \u001b[0m | \u001b[0m 3.126   \u001b[0m | \u001b[0m 1.258   \u001b[0m | \u001b[0m 1.287e+0\u001b[0m | \u001b[0m 0.8465  \u001b[0m |\n",
      "| \u001b[0m 12      \u001b[0m | \u001b[0m 0.914   \u001b[0m | \u001b[0m 0.8292  \u001b[0m | \u001b[0m 0.2261  \u001b[0m | \u001b[0m 0.09245 \u001b[0m | \u001b[0m 3.076   \u001b[0m | \u001b[0m 1.077   \u001b[0m | \u001b[0m 1.069e+0\u001b[0m | \u001b[0m 0.8976  \u001b[0m |\n",
      "=============================================================================================================\n",
      "-----------------------------------------------------\n",
      "Final Results\n",
      "XGBOOST: 0.920186\n"
     ]
    }
   ],
   "source": [
    "# question 5: build xgboost: wage_class is the response variable, and others are predictors\n",
    "# use bayesian to find the best combination of tunning parameters:\n",
    "# 'max_depth': (3,7) 'min_child_weight': (1,5), 'learning_rate': (0.01, 0.1), 'subsample': (0.7,0.9)\n",
    "# 'colsample_bytree': (0.7,0.9), 'n_estimators': (1000, 2000), ' 'gamma': (0.01,1.)\n",
    "def xgboostcv(max_depth, learning_rate, n_estimators, gamma, min_child_weight, \n",
    "              subsample, colsample_bytree, silent = True, nthread = -1):\n",
    "    return cross_val_score(xgb.XGBClassifier(max_depth = int(max_depth), learning_rate = learning_rate, \n",
    "                                             n_estimators = int(n_estimators), silent = silent, nthread = nthread, \n",
    "                                             gamma = gamma, min_child_weight = min_child_weight, subsample = subsample, \n",
    "                                             colsample_bytree = colsample_bytree),\n",
    "                           x_train, \n",
    "                           y_train, \n",
    "                           scoring = 'roc_auc', \n",
    "                           cv=5).mean()\n",
    "\n",
    "if __name__ == \"__main__\":\n",
    "    \n",
    "    xgboostBO = bayesian_optimization.BayesianOptimization(xgboostcv,\n",
    "                                 {'max_depth': (3, 7),\n",
    "                                  'learning_rate': (0.01, 0.1),\n",
    "                                  'n_estimators': (1000, 2000),\n",
    "                                  'gamma': (0.01, 1.),\n",
    "                                  'min_child_weight': (1, 5),\n",
    "                                  'subsample': (0.7, 0.9),\n",
    "                                  'colsample_bytree' :(0.7, 0.9)})\n",
    "    xgboostBO.maximize(init_points=2, n_iter = 10)\n",
    "    print('-'*53)\n",
    "    print('Final Results')\n",
    "    temp = xgboostBO.res\n",
    "    temp_list = []\n",
    "    for i in temp:\n",
    "        temp_list.append(i['target'])\n",
    "    print('XGBOOST: %f' % max(temp_list))"
   ]
  },
  {
   "cell_type": "code",
   "execution_count": 10,
   "metadata": {},
   "outputs": [
    {
     "name": "stderr",
     "output_type": "stream",
     "text": [
      "/Library/Frameworks/Python.framework/Versions/3.7/lib/python3.7/site-packages/xgboost/core.py:587: FutureWarning: Series.base is deprecated and will be removed in a future version\n",
      "  if getattr(data, 'base', None) is not None and \\\n",
      "/Library/Frameworks/Python.framework/Versions/3.7/lib/python3.7/site-packages/xgboost/core.py:588: FutureWarning: Series.base is deprecated and will be removed in a future version\n",
      "  data.base is not None and isinstance(data, np.ndarray) \\\n"
     ]
    },
    {
     "data": {
      "text/html": [
       "<div>\n",
       "<style scoped>\n",
       "    .dataframe tbody tr th:only-of-type {\n",
       "        vertical-align: middle;\n",
       "    }\n",
       "\n",
       "    .dataframe tbody tr th {\n",
       "        vertical-align: top;\n",
       "    }\n",
       "\n",
       "    .dataframe thead th {\n",
       "        text-align: right;\n",
       "    }\n",
       "</style>\n",
       "<table border=\"1\" class=\"dataframe\">\n",
       "  <thead>\n",
       "    <tr style=\"text-align: right;\">\n",
       "      <th></th>\n",
       "      <th>train-error-mean</th>\n",
       "      <th>train-error-std</th>\n",
       "      <th>test-error-mean</th>\n",
       "      <th>test-error-std</th>\n",
       "    </tr>\n",
       "  </thead>\n",
       "  <tbody>\n",
       "    <tr>\n",
       "      <th>0</th>\n",
       "      <td>0.166126</td>\n",
       "      <td>0.002137</td>\n",
       "      <td>0.171329</td>\n",
       "      <td>0.009131</td>\n",
       "    </tr>\n",
       "    <tr>\n",
       "      <th>1</th>\n",
       "      <td>0.165678</td>\n",
       "      <td>0.002252</td>\n",
       "      <td>0.170545</td>\n",
       "      <td>0.008220</td>\n",
       "    </tr>\n",
       "    <tr>\n",
       "      <th>2</th>\n",
       "      <td>0.166769</td>\n",
       "      <td>0.002579</td>\n",
       "      <td>0.171777</td>\n",
       "      <td>0.009728</td>\n",
       "    </tr>\n",
       "    <tr>\n",
       "      <th>3</th>\n",
       "      <td>0.163328</td>\n",
       "      <td>0.003388</td>\n",
       "      <td>0.165845</td>\n",
       "      <td>0.009128</td>\n",
       "    </tr>\n",
       "    <tr>\n",
       "      <th>4</th>\n",
       "      <td>0.163216</td>\n",
       "      <td>0.003315</td>\n",
       "      <td>0.164949</td>\n",
       "      <td>0.009831</td>\n",
       "    </tr>\n",
       "  </tbody>\n",
       "</table>\n",
       "</div>"
      ],
      "text/plain": [
       "   train-error-mean  train-error-std  test-error-mean  test-error-std\n",
       "0          0.166126         0.002137         0.171329        0.009131\n",
       "1          0.165678         0.002252         0.170545        0.008220\n",
       "2          0.166769         0.002579         0.171777        0.009728\n",
       "3          0.163328         0.003388         0.165845        0.009128\n",
       "4          0.163216         0.003315         0.164949        0.009831"
      ]
     },
     "execution_count": 10,
     "metadata": {},
     "output_type": "execute_result"
    }
   ],
   "source": [
    "# question 6: use xgb.cv to find the early stopping rounds based on error\n",
    "# parameter is from the max score above\n",
    "train_initial = xgb.DMatrix(x_train, y_train)\n",
    "target_para = {}\n",
    "for i in temp:\n",
    "    if i['target'] == max(temp_list):\n",
    "        target_para = i\n",
    "param = {'eta':  0.0159, 'seed':0, 'subsample': target_para['params']['subsample'], \n",
    "         'colsample_bytree': target_para['params']['colsample_bytree'], 'objective': 'binary:logistic', \n",
    "         'max_depth': int(target_para['params']['max_depth'].round()), \n",
    "         'min_child_weight': target_para['params']['min_child_weight'], \n",
    "         'gamma': target_para['params']['gamma']}\n",
    "warnings.filterwarnings(\"ignore\")\n",
    "df_cv = xgb.cv(params = param, dtrain = train_initial, num_boost_round = 2000, \n",
    "               nfold = 5, metrics = ['error'], early_stopping_rounds = 100)\n",
    "df_cv.head()"
   ]
  },
  {
   "cell_type": "code",
   "execution_count": 11,
   "metadata": {},
   "outputs": [
    {
     "data": {
      "image/png": "[encoded data removed]",
      "text/plain": [
       "<Figure size 432x288 with 1 Axes>"
      ]
     },
     "metadata": {
      "needs_background": "light"
     },
     "output_type": "display_data"
    }
   ],
   "source": [
    "# question 7: plot feature importance\n",
    "feature_imp = xgb.train(param, train_initial, num_boost_round = df_cv.shape[0])\n",
    "imp_dict = feature_imp.get_fscore()\n",
    "df_imp = pd.DataFrame.from_dict(imp_dict, orient = 'index')\n",
    "df_imp.columns = ['importance']\n",
    "df_imp = df_imp['importance'].sort_values()\n",
    "df_imp.plot.barh()\n",
    "plt.title('importance')\n",
    "plt.show()"
   ]
  },
  {
   "cell_type": "code",
   "execution_count": 12,
   "metadata": {},
   "outputs": [
    {
     "data": {
      "text/plain": [
       "0.7789647187972366"
      ]
     },
     "execution_count": 12,
     "metadata": {},
     "output_type": "execute_result"
    }
   ],
   "source": [
    "# question 8: analyze auc score on Test Data,\n",
    "test_initial = xgb.DMatrix(x_test, y_test)\n",
    "predict_result = feature_imp.predict(test_initial)\n",
    "roc_auc_score(y_test, predict_result.round())"
   ]
  },
  {
   "cell_type": "code",
   "execution_count": null,
   "metadata": {},
   "outputs": [],
   "source": []
  }
 ],
 "metadata": {
  "kernelspec": {
   "display_name": "Python 3",
   "language": "python",
   "name": "python3"
  },
  "language_info": {
   "codemirror_mode": {
    "name": "ipython",
    "version": 3
   },
   "file_extension": ".py",
   "mimetype": "text/x-python",
   "name": "python",
   "nbconvert_exporter": "python",
   "pygments_lexer": "ipython3",
   "version": "3.7.4"
  }
 },
 "nbformat": 4,
 "nbformat_minor": 2
}
