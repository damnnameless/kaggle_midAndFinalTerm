{
 "cells": [
  {
   "cell_type": "code",
   "execution_count": 12,
   "metadata": {},
   "outputs": [
    {
     "name": "stdout",
     "output_type": "stream",
     "text": [
      "Collecting category_encoders\n",
      "\u001b[?25l  Downloading https://files.pythonhosted.org/packages/a0/52/c54191ad3782de633ea3d6ee3bb2837bda0cf3bc97644bb6375cf14150a0/category_encoders-2.1.0-py2.py3-none-any.whl (100kB)\n",
      "\u001b[K     |████████████████████████████████| 102kB 3.1MB/s ta 0:00:01\n",
      "\u001b[?25hCollecting patsy>=0.4.1\n",
      "\u001b[?25l  Downloading https://files.pythonhosted.org/packages/ea/0c/5f61f1a3d4385d6bf83b83ea495068857ff8dfb89e74824c6e9eb63286d8/patsy-0.5.1-py2.py3-none-any.whl (231kB)\n",
      "\u001b[K     |████████████████████████████████| 235kB 8.4MB/s eta 0:00:01\n",
      "\u001b[?25hRequirement already satisfied: numpy>=1.11.3 in /Library/Frameworks/Python.framework/Versions/3.7/lib/python3.7/site-packages (from category_encoders) (1.17.0)\n",
      "Collecting statsmodels>=0.6.1\n",
      "\u001b[?25l  Downloading https://files.pythonhosted.org/packages/b5/b8/50f9b86bbd87b1de961f439c2b93dfc41dd0cb9d65f6b7d824b287b50b21/statsmodels-0.10.1-cp37-cp37m-macosx_10_6_intel.macosx_10_9_intel.macosx_10_9_x86_64.macosx_10_10_intel.macosx_10_10_x86_64.whl (10.5MB)\n",
      "\u001b[K     |████████████████████████████████| 10.5MB 32.7MB/s eta 0:00:01\n",
      "\u001b[?25hRequirement already satisfied: pandas>=0.21.1 in /Library/Frameworks/Python.framework/Versions/3.7/lib/python3.7/site-packages (from category_encoders) (0.25.0)\n",
      "Requirement already satisfied: scipy>=0.19.0 in /Library/Frameworks/Python.framework/Versions/3.7/lib/python3.7/site-packages (from category_encoders) (1.3.1)\n",
      "Requirement already satisfied: scikit-learn>=0.20.0 in /Library/Frameworks/Python.framework/Versions/3.7/lib/python3.7/site-packages (from category_encoders) (0.21.3)\n",
      "Requirement already satisfied: six in /Library/Frameworks/Python.framework/Versions/3.7/lib/python3.7/site-packages (from patsy>=0.4.1->category_encoders) (1.12.0)\n",
      "Requirement already satisfied: python-dateutil>=2.6.1 in /Library/Frameworks/Python.framework/Versions/3.7/lib/python3.7/site-packages (from pandas>=0.21.1->category_encoders) (2.8.0)\n",
      "Requirement already satisfied: pytz>=2017.2 in /Library/Frameworks/Python.framework/Versions/3.7/lib/python3.7/site-packages (from pandas>=0.21.1->category_encoders) (2019.2)\n",
      "Requirement already satisfied: joblib>=0.11 in /Library/Frameworks/Python.framework/Versions/3.7/lib/python3.7/site-packages (from scikit-learn>=0.20.0->category_encoders) (0.14.0)\n",
      "Installing collected packages: patsy, statsmodels, category-encoders\n",
      "Successfully installed category-encoders-2.1.0 patsy-0.5.1 statsmodels-0.10.1\n"
     ]
    }
   ],
   "source": [
    "!pip install category_encoders"
   ]
  },
  {
   "cell_type": "code",
   "execution_count": 14,
   "metadata": {},
   "outputs": [],
   "source": [
    "import pandas as pd\n",
    "import numpy as np\n",
    "from category_encoders import OrdinalEncoder\n",
    "import xgboost as xgb\n",
    "from xgboost.sklearn import XGBClassifier\n",
    "from sklearn.model_selection import cross_val_score\n",
    "from bayes_opt import bayesian_optimization\n",
    "import matplotlib.pyplot as plt\n",
    "from sklearn.metrics import roc_auc_score"
   ]
  },
  {
   "cell_type": "code",
   "execution_count": 3,
   "metadata": {},
   "outputs": [
    {
     "name": "stdout",
     "output_type": "stream",
     "text": [
      "train dataset shape is: (9674, 15)\n",
      "test dataset shape is: (11182, 15)\n"
     ]
    }
   ],
   "source": [
    "# question 1: read adult data.txt as train, adult test.txt as test, rename their headers to ['age', \n",
    "# 'workclass', 'fnlwgt', 'education', 'education_num', 'marital_status', 'occupation', 'relationship',\n",
    "# 'race', 'sex', 'capital_gain', 'capital_loss', 'hours_per_week', 'native_country', 'wage_class']\n",
    "column_name = ['age', 'workclass', 'fnlwgt', 'education', 'education_num', 'marital_status', \n",
    "               'occupation', 'relationship', 'race', 'sex', 'capital_gain', 'capital_loss', \n",
    "               'hours_per_week', 'native_country', 'wage_class']\n",
    "df_train = pd.read_csv('adult+data.txt', header = None)\n",
    "df_test = pd.read_csv('adult+test.txt', header = None)\n",
    "df_train.columns = column_name\n",
    "df_test.columns = column_name\n",
    "print(\"train dataset shape is: \" + str(df_train.shape))\n",
    "print(\"test dataset shape is: \" + str(df_test.shape))"
   ]
  },
  {
   "cell_type": "code",
   "execution_count": 4,
   "metadata": {},
   "outputs": [
    {
     "name": "stdout",
     "output_type": "stream",
     "text": [
      "train dataset shape without '?' is: (8936, 15)\n",
      "test dataset shape without '?' is: (10347, 15)\n"
     ]
    }
   ],
   "source": [
    "# question 2: replace ‘ ?’ with nan and drop na\n",
    "df_train_nona = df_train.replace(' ?', np.nan).dropna()\n",
    "df_test_nona = df_test.replace(' ?', np.nan).dropna()\n",
    "print(\"train dataset shape without '?' is: \" + str(df_train_nona.shape))\n",
    "print(\"test dataset shape without '?' is: \" + str(df_test_nona.shape))"
   ]
  },
  {
   "cell_type": "code",
   "execution_count": 5,
   "metadata": {},
   "outputs": [],
   "source": [
    "# question 3: replace test wage_class all of the ‘<=50K.’ \n",
    "# with ‘<=50K’ and the same for ‘>50K.’ with ‘>50K’, same as train\n",
    "df_test_rep = df_test_nona.replace([' >50K.', ' <=50K.'], ['>50K', '<=50K'])\n",
    "df_train_rep = df_train_nona.replace([' >50K', ' <=50K'], ['>50K', '<=50K'])"
   ]
  },
  {
   "cell_type": "code",
   "execution_count": 21,
   "metadata": {},
   "outputs": [],
   "source": [
    "columns_object = df_train_rep.select_dtypes(include = 'object').columns\n",
    "df_train_final = df_train_rep\n",
    "for i in df_train_rep.columns:\n",
    "    if df_train_rep[i].dtype == 'object':\n",
    "        encoder = OrdinalEncoder()\n",
    "        df_train_final[i] = encoder.fit_transform(df_train_rep[i])\n",
    "for i in df_test_rep.columns:\n",
    "    if df_test_rep[i].dtype == 'object':\n",
    "        encoder = OrdinalEncoder()\n",
    "        df_test_final[i] = encoder.fit_transform(df_test_rep[i])"
   ]
  },
  {
   "cell_type": "code",
   "execution_count": 19,
   "metadata": {},
   "outputs": [
    {
     "data": {
      "text/html": [
       "<div>\n",
       "<style scoped>\n",
       "    .dataframe tbody tr th:only-of-type {\n",
       "        vertical-align: middle;\n",
       "    }\n",
       "\n",
       "    .dataframe tbody tr th {\n",
       "        vertical-align: top;\n",
       "    }\n",
       "\n",
       "    .dataframe thead th {\n",
       "        text-align: right;\n",
       "    }\n",
       "</style>\n",
       "<table border=\"1\" class=\"dataframe\">\n",
       "  <thead>\n",
       "    <tr style=\"text-align: right;\">\n",
       "      <th></th>\n",
       "      <th>age</th>\n",
       "      <th>fnlwgt</th>\n",
       "      <th>education_num</th>\n",
       "      <th>capital_gain</th>\n",
       "      <th>capital_loss</th>\n",
       "      <th>hours_per_week</th>\n",
       "      <th>workclass</th>\n",
       "      <th>education</th>\n",
       "      <th>marital_status</th>\n",
       "      <th>occupation</th>\n",
       "      <th>relationship</th>\n",
       "      <th>race</th>\n",
       "      <th>sex</th>\n",
       "      <th>native_country</th>\n",
       "      <th>wage_class</th>\n",
       "    </tr>\n",
       "  </thead>\n",
       "  <tbody>\n",
       "    <tr>\n",
       "      <th>0</th>\n",
       "      <td>39</td>\n",
       "      <td>77516</td>\n",
       "      <td>13</td>\n",
       "      <td>2174</td>\n",
       "      <td>0</td>\n",
       "      <td>40</td>\n",
       "      <td>1</td>\n",
       "      <td>1</td>\n",
       "      <td>1</td>\n",
       "      <td>1</td>\n",
       "      <td>1</td>\n",
       "      <td>1</td>\n",
       "      <td>1</td>\n",
       "      <td>1</td>\n",
       "      <td>1</td>\n",
       "    </tr>\n",
       "    <tr>\n",
       "      <th>1</th>\n",
       "      <td>50</td>\n",
       "      <td>83311</td>\n",
       "      <td>13</td>\n",
       "      <td>0</td>\n",
       "      <td>0</td>\n",
       "      <td>13</td>\n",
       "      <td>2</td>\n",
       "      <td>1</td>\n",
       "      <td>2</td>\n",
       "      <td>2</td>\n",
       "      <td>2</td>\n",
       "      <td>1</td>\n",
       "      <td>1</td>\n",
       "      <td>1</td>\n",
       "      <td>1</td>\n",
       "    </tr>\n",
       "    <tr>\n",
       "      <th>2</th>\n",
       "      <td>38</td>\n",
       "      <td>215646</td>\n",
       "      <td>9</td>\n",
       "      <td>0</td>\n",
       "      <td>0</td>\n",
       "      <td>40</td>\n",
       "      <td>3</td>\n",
       "      <td>2</td>\n",
       "      <td>3</td>\n",
       "      <td>3</td>\n",
       "      <td>1</td>\n",
       "      <td>1</td>\n",
       "      <td>1</td>\n",
       "      <td>1</td>\n",
       "      <td>1</td>\n",
       "    </tr>\n",
       "    <tr>\n",
       "      <th>3</th>\n",
       "      <td>53</td>\n",
       "      <td>234721</td>\n",
       "      <td>7</td>\n",
       "      <td>0</td>\n",
       "      <td>0</td>\n",
       "      <td>40</td>\n",
       "      <td>3</td>\n",
       "      <td>3</td>\n",
       "      <td>2</td>\n",
       "      <td>3</td>\n",
       "      <td>2</td>\n",
       "      <td>2</td>\n",
       "      <td>1</td>\n",
       "      <td>1</td>\n",
       "      <td>1</td>\n",
       "    </tr>\n",
       "    <tr>\n",
       "      <th>4</th>\n",
       "      <td>28</td>\n",
       "      <td>338409</td>\n",
       "      <td>13</td>\n",
       "      <td>0</td>\n",
       "      <td>0</td>\n",
       "      <td>40</td>\n",
       "      <td>3</td>\n",
       "      <td>1</td>\n",
       "      <td>2</td>\n",
       "      <td>4</td>\n",
       "      <td>3</td>\n",
       "      <td>2</td>\n",
       "      <td>2</td>\n",
       "      <td>2</td>\n",
       "      <td>1</td>\n",
       "    </tr>\n",
       "  </tbody>\n",
       "</table>\n",
       "</div>"
      ],
      "text/plain": [
       "   age  fnlwgt  education_num  capital_gain  capital_loss  hours_per_week  \\\n",
       "0   39   77516             13          2174             0              40   \n",
       "1   50   83311             13             0             0              13   \n",
       "2   38  215646              9             0             0              40   \n",
       "3   53  234721              7             0             0              40   \n",
       "4   28  338409             13             0             0              40   \n",
       "\n",
       "   workclass  education  marital_status  occupation  relationship  race  sex  \\\n",
       "0          1          1               1           1             1     1    1   \n",
       "1          2          1               2           2             2     1    1   \n",
       "2          3          2               3           3             1     1    1   \n",
       "3          3          3               2           3             2     2    1   \n",
       "4          3          1               2           4             3     2    2   \n",
       "\n",
       "   native_country  wage_class  \n",
       "0               1           1  \n",
       "1               1           1  \n",
       "2               1           1  \n",
       "3               1           1  \n",
       "4               2           1  "
      ]
     },
     "execution_count": 19,
     "metadata": {},
     "output_type": "execute_result"
    }
   ],
   "source": [
    "# question 4: apply Ordinal Encoding to Categoricals for both train and test\n",
    "# df_train_object = df_train_rep.select_dtypes(include = 'object')\n",
    "# df_test_object = df_test_rep.select_dtypes(include = 'object')\n",
    "# object_columns = df_test_object.columns\n",
    "# train_enc = OrdinalEncoder()\n",
    "# train_enc.fit(df_train_object)\n",
    "# train_fit = train_enc.transform(df_train_object)\n",
    "# df_train_fit = pd.DataFrame(train_fit, columns = object_columns).reset_index()\n",
    "# test_enc = OrdinalEncoder()\n",
    "# test_enc.fit(df_test_object)\n",
    "# test_fit = test_enc.transform(df_test_object)\n",
    "# df_test_fit = pd.DataFrame(test_fit, columns = object_columns).reset_index()\n",
    "# df_train_final = pd.merge(df_train_rep.select_dtypes(exclude = 'object').reset_index(), \n",
    "#                           df_train_fit, on = 'index').drop(columns = 'index')\n",
    "# df_test_final = pd.merge(df_test_rep.select_dtypes(exclude = 'object').reset_index(), \n",
    "#                          df_test_fit, on = 'index').drop(columns = 'index')\n",
    "# df_train_final.head()"
   ]
  },
  {
   "cell_type": "code",
   "execution_count": 29,
   "metadata": {},
   "outputs": [
    {
     "data": {
      "text/plain": [
       "0       1\n",
       "1       1\n",
       "2       1\n",
       "3       1\n",
       "4       1\n",
       "       ..\n",
       "9668    1\n",
       "9669    1\n",
       "9670    1\n",
       "9671    1\n",
       "9672    2\n",
       "Name: wage_class, Length: 8936, dtype: int64"
      ]
     },
     "execution_count": 29,
     "metadata": {},
     "output_type": "execute_result"
    }
   ],
   "source": [
    "y_train = df_train_final['wage_class']\n",
    "y_test = df_test_final['wage_class']\n",
    "x_train = df_train_final.drop(columns = 'wage_class')\n",
    "x_test = df_test_final.drop(columns = 'wage_class')"
   ]
  },
  {
   "cell_type": "code",
   "execution_count": 23,
   "metadata": {},
   "outputs": [
    {
     "name": "stdout",
     "output_type": "stream",
     "text": [
      "|   iter    |  target   | colsam... |   gamma   | learni... | max_depth | min_ch... | n_esti... | subsample |\n",
      "-------------------------------------------------------------------------------------------------------------\n",
      "| \u001b[0m 1       \u001b[0m | \u001b[0m 0.9173  \u001b[0m | \u001b[0m 0.8197  \u001b[0m | \u001b[0m 0.5904  \u001b[0m | \u001b[0m 0.03409 \u001b[0m | \u001b[0m 3.965   \u001b[0m | \u001b[0m 3.862   \u001b[0m | \u001b[0m 1.679e+0\u001b[0m | \u001b[0m 0.8783  \u001b[0m |\n",
      "| \u001b[0m 2       \u001b[0m | \u001b[0m 0.909   \u001b[0m | \u001b[0m 0.8318  \u001b[0m | \u001b[0m 0.2127  \u001b[0m | \u001b[0m 0.08216 \u001b[0m | \u001b[0m 3.847   \u001b[0m | \u001b[0m 1.637   \u001b[0m | \u001b[0m 1.909e+0\u001b[0m | \u001b[0m 0.7945  \u001b[0m |\n",
      "| \u001b[0m 3       \u001b[0m | \u001b[0m 0.9136  \u001b[0m | \u001b[0m 0.7597  \u001b[0m | \u001b[0m 0.3406  \u001b[0m | \u001b[0m 0.03177 \u001b[0m | \u001b[0m 6.164   \u001b[0m | \u001b[0m 1.203   \u001b[0m | \u001b[0m 1e+03   \u001b[0m | \u001b[0m 0.7425  \u001b[0m |\n",
      "| \u001b[0m 4       \u001b[0m | \u001b[0m 0.9087  \u001b[0m | \u001b[0m 0.7246  \u001b[0m | \u001b[0m 0.5289  \u001b[0m | \u001b[0m 0.04529 \u001b[0m | \u001b[0m 6.931   \u001b[0m | \u001b[0m 1.029   \u001b[0m | \u001b[0m 1.385e+0\u001b[0m | \u001b[0m 0.8579  \u001b[0m |\n",
      "| \u001b[0m 5       \u001b[0m | \u001b[0m 0.906   \u001b[0m | \u001b[0m 0.7466  \u001b[0m | \u001b[0m 0.1452  \u001b[0m | \u001b[0m 0.04894 \u001b[0m | \u001b[0m 6.975   \u001b[0m | \u001b[0m 1.123   \u001b[0m | \u001b[0m 1.71e+03\u001b[0m | \u001b[0m 0.8905  \u001b[0m |\n",
      "| \u001b[0m 6       \u001b[0m | \u001b[0m 0.9091  \u001b[0m | \u001b[0m 0.7614  \u001b[0m | \u001b[0m 0.5287  \u001b[0m | \u001b[0m 0.08584 \u001b[0m | \u001b[0m 3.485   \u001b[0m | \u001b[0m 4.593   \u001b[0m | \u001b[0m 2e+03   \u001b[0m | \u001b[0m 0.7103  \u001b[0m |\n",
      "| \u001b[0m 7       \u001b[0m | \u001b[0m 0.9137  \u001b[0m | \u001b[0m 0.8103  \u001b[0m | \u001b[0m 0.9139  \u001b[0m | \u001b[0m 0.07961 \u001b[0m | \u001b[0m 3.001   \u001b[0m | \u001b[0m 4.831   \u001b[0m | \u001b[0m 1.168e+0\u001b[0m | \u001b[0m 0.7176  \u001b[0m |\n",
      "| \u001b[0m 8       \u001b[0m | \u001b[0m 0.9115  \u001b[0m | \u001b[0m 0.8721  \u001b[0m | \u001b[0m 0.05587 \u001b[0m | \u001b[0m 0.08241 \u001b[0m | \u001b[0m 3.033   \u001b[0m | \u001b[0m 4.954   \u001b[0m | \u001b[0m 1.536e+0\u001b[0m | \u001b[0m 0.7695  \u001b[0m |\n",
      "| \u001b[0m 9       \u001b[0m | \u001b[0m 0.9139  \u001b[0m | \u001b[0m 0.7057  \u001b[0m | \u001b[0m 0.5879  \u001b[0m | \u001b[0m 0.0661  \u001b[0m | \u001b[0m 3.036   \u001b[0m | \u001b[0m 4.987   \u001b[0m | \u001b[0m 1.308e+0\u001b[0m | \u001b[0m 0.7044  \u001b[0m |\n",
      "| \u001b[95m 10      \u001b[0m | \u001b[95m 0.9174  \u001b[0m | \u001b[95m 0.8318  \u001b[0m | \u001b[95m 0.9555  \u001b[0m | \u001b[95m 0.01823 \u001b[0m | \u001b[95m 3.006   \u001b[0m | \u001b[95m 4.982   \u001b[0m | \u001b[95m 1.777e+0\u001b[0m | \u001b[95m 0.7437  \u001b[0m |\n",
      "| \u001b[0m 11      \u001b[0m | \u001b[0m 0.9129  \u001b[0m | \u001b[0m 0.7005  \u001b[0m | \u001b[0m 0.809   \u001b[0m | \u001b[0m 0.01088 \u001b[0m | \u001b[0m 3.034   \u001b[0m | \u001b[0m 4.975   \u001b[0m | \u001b[0m 1.061e+0\u001b[0m | \u001b[0m 0.8288  \u001b[0m |\n",
      "| \u001b[0m 12      \u001b[0m | \u001b[0m 0.9139  \u001b[0m | \u001b[0m 0.8406  \u001b[0m | \u001b[0m 0.7304  \u001b[0m | \u001b[0m 0.08605 \u001b[0m | \u001b[0m 3.017   \u001b[0m | \u001b[0m 4.903   \u001b[0m | \u001b[0m 1.001e+0\u001b[0m | \u001b[0m 0.7405  \u001b[0m |\n",
      "=============================================================================================================\n",
      "-----------------------------------------------------\n",
      "Final Results\n",
      "XGBOOST: 0.917366\n"
     ]
    }
   ],
   "source": [
    "# question 5: build xgboost: wage_class is the response variable, and others are predictors\n",
    "# use bayesian to find the best combination of tunning parameters:\n",
    "# 'max_depth': (3,7) 'min_child_weight': (1,5), 'learning_rate': (0.01, 0.1), 'subsample': (0.7,0.9)\n",
    "# 'colsample_bytree': (0.7,0.9), 'n_estimators': (1000, 2000), ' 'gamma': (0.01,1.)\n",
    "def xgboostcv(max_depth, learning_rate, n_estimators, gamma, min_child_weight, \n",
    "              subsample, colsample_bytree, silent = True, nthread = -1):\n",
    "    return cross_val_score(xgb.XGBClassifier(max_depth = int(max_depth), learning_rate = learning_rate, \n",
    "                                             n_estimators = int(n_estimators), silent = silent, nthread = nthread, \n",
    "                                             gamma = gamma, min_child_weight = min_child_weight, subsample = subsample, \n",
    "                                             colsample_bytree = colsample_bytree),\n",
    "                           x_train, \n",
    "                           y_train, \n",
    "                           scoring = 'roc_auc', \n",
    "                           cv=5).mean()\n",
    "\n",
    "if __name__ == \"__main__\":\n",
    "    \n",
    "    xgboostBO = bayesian_optimization.BayesianOptimization(xgboostcv,\n",
    "                                 {'max_depth': (3, 7),\n",
    "                                  'learning_rate': (0.01, 0.1),\n",
    "                                  'n_estimators': (1000, 2000),\n",
    "                                  'gamma': (0.01, 1.),\n",
    "                                  'min_child_weight': (1, 5),\n",
    "                                  'subsample': (0.7, 0.9),\n",
    "                                  'colsample_bytree' :(0.7, 0.9)})\n",
    "    xgboostBO.maximize(init_points=2, n_iter = 10)\n",
    "    print('-'*53)\n",
    "    print('Final Results')\n",
    "    temp = xgboostBO.res\n",
    "    temp_list = []\n",
    "    for i in temp:\n",
    "        temp_list.append(i['target'])\n",
    "    print('XGBOOST: %f' % max(temp_list))"
   ]
  },
  {
   "cell_type": "code",
   "execution_count": 28,
   "metadata": {},
   "outputs": [
    {
     "ename": "XGBoostError",
     "evalue": "[21:15:00] src/objective/regression_obj.cu:101: label must be in [0,1] for logistic regression\nStack trace:\n  [bt] (0) 1   libxgboost.dylib                    0x0000000118939f09 dmlc::LogMessageFatal::~LogMessageFatal() + 57\n  [bt] (1) 2   libxgboost.dylib                    0x00000001189c8f18 xgboost::obj::RegLossObj<xgboost::obj::LogisticClassification>::GetGradient(xgboost::HostDeviceVector<float> const&, xgboost::MetaInfo const&, int, xgboost::HostDeviceVector<xgboost::detail::GradientPairInternal<float> >*) + 1160\n  [bt] (2) 3   libxgboost.dylib                    0x00000001189361f2 xgboost::LearnerImpl::UpdateOneIter(int, xgboost::DMatrix*) + 1330\n  [bt] (3) 4   libxgboost.dylib                    0x0000000118954684 XGBoosterUpdateOneIter + 180\n  [bt] (4) 5   _ctypes.cpython-37m-darwin.so       0x0000000106814177 ffi_call_unix64 + 79\n  [bt] (5) 6   ???                                 0x00007ffeeb7e6950 0x0 + 140732849350992\n\n",
     "output_type": "error",
     "traceback": [
      "\u001b[0;31m---------------------------------------------------------------------------\u001b[0m",
      "\u001b[0;31mXGBoostError\u001b[0m                              Traceback (most recent call last)",
      "\u001b[0;32m<ipython-input-28-8a847f96d8a2>\u001b[0m in \u001b[0;36m<module>\u001b[0;34m\u001b[0m\n\u001b[1;32m      4\u001b[0m              'objective': 'binary:logistic', 'max_depth':3.006, 'min_child_weight':4.982, 'gamma': 0.7437}\n\u001b[1;32m      5\u001b[0m df_cv = xgb.cv(params = param, dtrain = train_initial, num_boost_round = 1000, \n\u001b[0;32m----> 6\u001b[0;31m                nfold = 5, metrics = ['error'], seed = 0, early_stopping_rounds = 100)\n\u001b[0m\u001b[1;32m      7\u001b[0m \u001b[0mdf_cv\u001b[0m\u001b[0;34m.\u001b[0m\u001b[0mhead\u001b[0m\u001b[0;34m(\u001b[0m\u001b[0;34m)\u001b[0m\u001b[0;34m\u001b[0m\u001b[0;34m\u001b[0m\u001b[0m\n",
      "\u001b[0;32m/Library/Frameworks/Python.framework/Versions/3.7/lib/python3.7/site-packages/xgboost/training.py\u001b[0m in \u001b[0;36mcv\u001b[0;34m(params, dtrain, num_boost_round, nfold, stratified, folds, metrics, obj, feval, maximize, early_stopping_rounds, fpreproc, as_pandas, verbose_eval, show_stdv, seed, callbacks, shuffle)\u001b[0m\n\u001b[1;32m    443\u001b[0m                            evaluation_result_list=None))\n\u001b[1;32m    444\u001b[0m         \u001b[0;32mfor\u001b[0m \u001b[0mfold\u001b[0m \u001b[0;32min\u001b[0m \u001b[0mcvfolds\u001b[0m\u001b[0;34m:\u001b[0m\u001b[0;34m\u001b[0m\u001b[0;34m\u001b[0m\u001b[0m\n\u001b[0;32m--> 445\u001b[0;31m             \u001b[0mfold\u001b[0m\u001b[0;34m.\u001b[0m\u001b[0mupdate\u001b[0m\u001b[0;34m(\u001b[0m\u001b[0mi\u001b[0m\u001b[0;34m,\u001b[0m \u001b[0mobj\u001b[0m\u001b[0;34m)\u001b[0m\u001b[0;34m\u001b[0m\u001b[0;34m\u001b[0m\u001b[0m\n\u001b[0m\u001b[1;32m    446\u001b[0m         \u001b[0mres\u001b[0m \u001b[0;34m=\u001b[0m \u001b[0maggcv\u001b[0m\u001b[0;34m(\u001b[0m\u001b[0;34m[\u001b[0m\u001b[0mf\u001b[0m\u001b[0;34m.\u001b[0m\u001b[0meval\u001b[0m\u001b[0;34m(\u001b[0m\u001b[0mi\u001b[0m\u001b[0;34m,\u001b[0m \u001b[0mfeval\u001b[0m\u001b[0;34m)\u001b[0m \u001b[0;32mfor\u001b[0m \u001b[0mf\u001b[0m \u001b[0;32min\u001b[0m \u001b[0mcvfolds\u001b[0m\u001b[0;34m]\u001b[0m\u001b[0;34m)\u001b[0m\u001b[0;34m\u001b[0m\u001b[0;34m\u001b[0m\u001b[0m\n\u001b[1;32m    447\u001b[0m \u001b[0;34m\u001b[0m\u001b[0m\n",
      "\u001b[0;32m/Library/Frameworks/Python.framework/Versions/3.7/lib/python3.7/site-packages/xgboost/training.py\u001b[0m in \u001b[0;36mupdate\u001b[0;34m(self, iteration, fobj)\u001b[0m\n\u001b[1;32m    228\u001b[0m     \u001b[0;32mdef\u001b[0m \u001b[0mupdate\u001b[0m\u001b[0;34m(\u001b[0m\u001b[0mself\u001b[0m\u001b[0;34m,\u001b[0m \u001b[0miteration\u001b[0m\u001b[0;34m,\u001b[0m \u001b[0mfobj\u001b[0m\u001b[0;34m)\u001b[0m\u001b[0;34m:\u001b[0m\u001b[0;34m\u001b[0m\u001b[0;34m\u001b[0m\u001b[0m\n\u001b[1;32m    229\u001b[0m         \u001b[0;34m\"\"\"\"Update the boosters for one iteration\"\"\"\u001b[0m\u001b[0;34m\u001b[0m\u001b[0;34m\u001b[0m\u001b[0m\n\u001b[0;32m--> 230\u001b[0;31m         \u001b[0mself\u001b[0m\u001b[0;34m.\u001b[0m\u001b[0mbst\u001b[0m\u001b[0;34m.\u001b[0m\u001b[0mupdate\u001b[0m\u001b[0;34m(\u001b[0m\u001b[0mself\u001b[0m\u001b[0;34m.\u001b[0m\u001b[0mdtrain\u001b[0m\u001b[0;34m,\u001b[0m \u001b[0miteration\u001b[0m\u001b[0;34m,\u001b[0m \u001b[0mfobj\u001b[0m\u001b[0;34m)\u001b[0m\u001b[0;34m\u001b[0m\u001b[0;34m\u001b[0m\u001b[0m\n\u001b[0m\u001b[1;32m    231\u001b[0m \u001b[0;34m\u001b[0m\u001b[0m\n\u001b[1;32m    232\u001b[0m     \u001b[0;32mdef\u001b[0m \u001b[0meval\u001b[0m\u001b[0;34m(\u001b[0m\u001b[0mself\u001b[0m\u001b[0;34m,\u001b[0m \u001b[0miteration\u001b[0m\u001b[0;34m,\u001b[0m \u001b[0mfeval\u001b[0m\u001b[0;34m)\u001b[0m\u001b[0;34m:\u001b[0m\u001b[0;34m\u001b[0m\u001b[0;34m\u001b[0m\u001b[0m\n",
      "\u001b[0;32m/Library/Frameworks/Python.framework/Versions/3.7/lib/python3.7/site-packages/xgboost/core.py\u001b[0m in \u001b[0;36mupdate\u001b[0;34m(self, dtrain, iteration, fobj)\u001b[0m\n\u001b[1;32m   1107\u001b[0m         \u001b[0;32mif\u001b[0m \u001b[0mfobj\u001b[0m \u001b[0;32mis\u001b[0m \u001b[0;32mNone\u001b[0m\u001b[0;34m:\u001b[0m\u001b[0;34m\u001b[0m\u001b[0;34m\u001b[0m\u001b[0m\n\u001b[1;32m   1108\u001b[0m             _check_call(_LIB.XGBoosterUpdateOneIter(self.handle, ctypes.c_int(iteration),\n\u001b[0;32m-> 1109\u001b[0;31m                                                     dtrain.handle))\n\u001b[0m\u001b[1;32m   1110\u001b[0m         \u001b[0;32melse\u001b[0m\u001b[0;34m:\u001b[0m\u001b[0;34m\u001b[0m\u001b[0;34m\u001b[0m\u001b[0m\n\u001b[1;32m   1111\u001b[0m             \u001b[0mpred\u001b[0m \u001b[0;34m=\u001b[0m \u001b[0mself\u001b[0m\u001b[0;34m.\u001b[0m\u001b[0mpredict\u001b[0m\u001b[0;34m(\u001b[0m\u001b[0mdtrain\u001b[0m\u001b[0;34m)\u001b[0m\u001b[0;34m\u001b[0m\u001b[0;34m\u001b[0m\u001b[0m\n",
      "\u001b[0;32m/Library/Frameworks/Python.framework/Versions/3.7/lib/python3.7/site-packages/xgboost/core.py\u001b[0m in \u001b[0;36m_check_call\u001b[0;34m(ret)\u001b[0m\n\u001b[1;32m    174\u001b[0m     \"\"\"\n\u001b[1;32m    175\u001b[0m     \u001b[0;32mif\u001b[0m \u001b[0mret\u001b[0m \u001b[0;34m!=\u001b[0m \u001b[0;36m0\u001b[0m\u001b[0;34m:\u001b[0m\u001b[0;34m\u001b[0m\u001b[0;34m\u001b[0m\u001b[0m\n\u001b[0;32m--> 176\u001b[0;31m         \u001b[0;32mraise\u001b[0m \u001b[0mXGBoostError\u001b[0m\u001b[0;34m(\u001b[0m\u001b[0mpy_str\u001b[0m\u001b[0;34m(\u001b[0m\u001b[0m_LIB\u001b[0m\u001b[0;34m.\u001b[0m\u001b[0mXGBGetLastError\u001b[0m\u001b[0;34m(\u001b[0m\u001b[0;34m)\u001b[0m\u001b[0;34m)\u001b[0m\u001b[0;34m)\u001b[0m\u001b[0;34m\u001b[0m\u001b[0;34m\u001b[0m\u001b[0m\n\u001b[0m\u001b[1;32m    177\u001b[0m \u001b[0;34m\u001b[0m\u001b[0m\n\u001b[1;32m    178\u001b[0m \u001b[0;34m\u001b[0m\u001b[0m\n",
      "\u001b[0;31mXGBoostError\u001b[0m: [21:15:00] src/objective/regression_obj.cu:101: label must be in [0,1] for logistic regression\nStack trace:\n  [bt] (0) 1   libxgboost.dylib                    0x0000000118939f09 dmlc::LogMessageFatal::~LogMessageFatal() + 57\n  [bt] (1) 2   libxgboost.dylib                    0x00000001189c8f18 xgboost::obj::RegLossObj<xgboost::obj::LogisticClassification>::GetGradient(xgboost::HostDeviceVector<float> const&, xgboost::MetaInfo const&, int, xgboost::HostDeviceVector<xgboost::detail::GradientPairInternal<float> >*) + 1160\n  [bt] (2) 3   libxgboost.dylib                    0x00000001189361f2 xgboost::LearnerImpl::UpdateOneIter(int, xgboost::DMatrix*) + 1330\n  [bt] (3) 4   libxgboost.dylib                    0x0000000118954684 XGBoosterUpdateOneIter + 180\n  [bt] (4) 5   _ctypes.cpython-37m-darwin.so       0x0000000106814177 ffi_call_unix64 + 79\n  [bt] (5) 6   ???                                 0x00007ffeeb7e6950 0x0 + 140732849350992\n\n"
     ]
    }
   ],
   "source": [
    "# question 6: use xgb.cv to find the early stopping rounds based on error\n",
    "train_initial = xgb.DMatrix(x_train, y_train)\n",
    "param = {'eta': 0.01, 'seed':0, 'subsample': 0.7437, 'colsample_bytree': 0.8318, \n",
    "             'objective': 'binary:logistic', 'max_depth':3.006, 'min_child_weight':4.982, 'gamma': 0.7437}\n",
    "df_cv = xgb.cv(params = param, dtrain = train_initial, num_boost_round = 1000, \n",
    "               nfold = 5, metrics = ['error'], seed = 0, early_stopping_rounds = 100)\n",
    "df_cv.head()"
   ]
  },
  {
   "cell_type": "code",
   "execution_count": 131,
   "metadata": {},
   "outputs": [
    {
     "data": {
      "image/png": "[encoded data removed]",
      "text/plain": [
       "<Figure size 432x288 with 1 Axes>"
      ]
     },
     "metadata": {
      "needs_background": "light"
     },
     "output_type": "display_data"
    }
   ],
   "source": [
    "# question 7: plot feature importance\n",
    "feature_imp = xgb.train(param, train_initial, num_boost_round = 1000)\n",
    "imp_dict = feature_imp.get_score(importance_type = 'gain')\n",
    "X = np.arange(len(imp_dict))\n",
    "plt.barh(np.arange(len(imp_dict)), imp_dict.values(), align='center')\n",
    "plt.yticks(X, imp_dict.keys())\n",
    "plt.show()"
   ]
  },
  {
   "cell_type": "code",
   "execution_count": 130,
   "metadata": {},
   "outputs": [
    {
     "name": "stderr",
     "output_type": "stream",
     "text": [
      "/Library/Frameworks/Python.framework/Versions/3.7/lib/python3.7/site-packages/xgboost/core.py:587: FutureWarning: Series.base is deprecated and will be removed in a future version\n",
      "  if getattr(data, 'base', None) is not None and \\\n",
      "/Library/Frameworks/Python.framework/Versions/3.7/lib/python3.7/site-packages/xgboost/core.py:588: FutureWarning: Series.base is deprecated and will be removed in a future version\n",
      "  data.base is not None and isinstance(data, np.ndarray) \\\n"
     ]
    },
    {
     "data": {
      "text/plain": [
       "0.7076049511078455"
      ]
     },
     "execution_count": 130,
     "metadata": {},
     "output_type": "execute_result"
    }
   ],
   "source": [
    "# question 8: analyze auc score on Test Data,\n",
    "test_initial = xgb.DMatrix(x_test, y_test)\n",
    "predict_result = feature_imp.predict(test_initial)\n",
    "roc_auc_score(y_test, predict_result.round())"
   ]
  },
  {
   "cell_type": "code",
   "execution_count": null,
   "metadata": {},
   "outputs": [],
   "source": []
  }
 ],
 "metadata": {
  "kernelspec": {
   "display_name": "Python 3",
   "language": "python",
   "name": "python3"
  },
  "language_info": {
   "codemirror_mode": {
    "name": "ipython",
    "version": 3
   },
   "file_extension": ".py",
   "mimetype": "text/x-python",
   "name": "python",
   "nbconvert_exporter": "python",
   "pygments_lexer": "ipython3",
   "version": "3.7.4"
  }
 },
 "nbformat": 4,
 "nbformat_minor": 2
}
